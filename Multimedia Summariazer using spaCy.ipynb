{
  "nbformat": 4,
  "nbformat_minor": 0,
  "metadata": {
    "colab": {
      "provenance": []
    },
    "kernelspec": {
      "name": "python3",
      "display_name": "Python 3"
    },
    "language_info": {
      "name": "python"
    }
  },
  "cells": [
    {
      "cell_type": "code",
      "execution_count": null,
      "metadata": {
        "colab": {
          "base_uri": "https://localhost:8080/"
        },
        "id": "ufTSbpme2io6",
        "outputId": "637d669f-e652-4de8-d771-6cd36ac629f2"
      },
      "outputs": [
        {
          "output_type": "stream",
          "name": "stdout",
          "text": [
            "Collecting pytube\n",
            "  Downloading pytube-15.0.0-py3-none-any.whl (57 kB)\n",
            "\u001b[?25l     \u001b[90m━━━━━━━━━━━━━━━━━━━━━━━━━━━━━━━━━━━━━━━━\u001b[0m \u001b[32m0.0/57.6 kB\u001b[0m \u001b[31m?\u001b[0m eta \u001b[36m-:--:--\u001b[0m\r\u001b[2K     \u001b[90m━━━━━━━━━━━━━━━━━━━━━━━━━━━━━━━━━━━━━━━━\u001b[0m \u001b[32m57.6/57.6 kB\u001b[0m \u001b[31m2.2 MB/s\u001b[0m eta \u001b[36m0:00:00\u001b[0m\n",
            "\u001b[?25hInstalling collected packages: pytube\n",
            "Successfully installed pytube-15.0.0\n"
          ]
        }
      ],
      "source": [
        "! pip install --upgrade pytube"
      ]
    },
    {
      "cell_type": "code",
      "source": [
        "!ffmpeg -version"
      ],
      "metadata": {
        "colab": {
          "base_uri": "https://localhost:8080/"
        },
        "id": "FAYGmVKW4Waf",
        "outputId": "4d8a9ddb-849b-42c6-aeca-c055f65efa85"
      },
      "execution_count": null,
      "outputs": [
        {
          "output_type": "stream",
          "name": "stdout",
          "text": [
            "ffmpeg version 4.4.2-0ubuntu0.22.04.1 Copyright (c) 2000-2021 the FFmpeg developers\n",
            "built with gcc 11 (Ubuntu 11.2.0-19ubuntu1)\n",
            "configuration: --prefix=/usr --extra-version=0ubuntu0.22.04.1 --toolchain=hardened --libdir=/usr/lib/x86_64-linux-gnu --incdir=/usr/include/x86_64-linux-gnu --arch=amd64 --enable-gpl --disable-stripping --enable-gnutls --enable-ladspa --enable-libaom --enable-libass --enable-libbluray --enable-libbs2b --enable-libcaca --enable-libcdio --enable-libcodec2 --enable-libdav1d --enable-libflite --enable-libfontconfig --enable-libfreetype --enable-libfribidi --enable-libgme --enable-libgsm --enable-libjack --enable-libmp3lame --enable-libmysofa --enable-libopenjpeg --enable-libopenmpt --enable-libopus --enable-libpulse --enable-librabbitmq --enable-librubberband --enable-libshine --enable-libsnappy --enable-libsoxr --enable-libspeex --enable-libsrt --enable-libssh --enable-libtheora --enable-libtwolame --enable-libvidstab --enable-libvorbis --enable-libvpx --enable-libwebp --enable-libx265 --enable-libxml2 --enable-libxvid --enable-libzimg --enable-libzmq --enable-libzvbi --enable-lv2 --enable-omx --enable-openal --enable-opencl --enable-opengl --enable-sdl2 --enable-pocketsphinx --enable-librsvg --enable-libmfx --enable-libdc1394 --enable-libdrm --enable-libiec61883 --enable-chromaprint --enable-frei0r --enable-libx264 --enable-shared\n",
            "libavutil      56. 70.100 / 56. 70.100\n",
            "libavcodec     58.134.100 / 58.134.100\n",
            "libavformat    58. 76.100 / 58. 76.100\n",
            "libavdevice    58. 13.100 / 58. 13.100\n",
            "libavfilter     7.110.100 /  7.110.100\n",
            "libswscale      5.  9.100 /  5.  9.100\n",
            "libswresample   3.  9.100 /  3.  9.100\n",
            "libpostproc    55.  9.100 / 55.  9.100\n"
          ]
        }
      ]
    },
    {
      "cell_type": "code",
      "source": [
        "from pytube import YouTube"
      ],
      "metadata": {
        "id": "iPY8FfZ74eLp"
      },
      "execution_count": null,
      "outputs": []
    },
    {
      "cell_type": "code",
      "source": [
        "VIDEO_URL = 'https://youtu.be/ujsT8aVBWB0?si=Bz_PzGZvmIM9dWhu' #batman\n",
        "yt = YouTube(VIDEO_URL,use_oauth=True, allow_oauth_cache=True)\n",
        "yt"
      ],
      "metadata": {
        "colab": {
          "base_uri": "https://localhost:8080/"
        },
        "id": "uCETO1Sz5R3m",
        "outputId": "6d07b1b6-f64c-4e48-e74a-d5c6c5b27979"
      },
      "execution_count": null,
      "outputs": [
        {
          "output_type": "execute_result",
          "data": {
            "text/plain": [
              "<pytube.__main__.YouTube object: videoId=ujsT8aVBWB0>"
            ]
          },
          "metadata": {},
          "execution_count": 5
        }
      ]
    },
    {
      "cell_type": "code",
      "source": [
        "yt.streams \\\n",
        "  .filter(only_audio = True, file_extension = 'mp4') \\\n",
        "  .first() \\\n",
        "  .download(filename = 'ytaudio.mp4')"
      ],
      "metadata": {
        "colab": {
          "base_uri": "https://localhost:8080/",
          "height": 70
        },
        "id": "-vZuAtuk5oCm",
        "outputId": "5b4fc4ea-deb8-4982-de58-9a41d98041a9"
      },
      "execution_count": null,
      "outputs": [
        {
          "name": "stdout",
          "output_type": "stream",
          "text": [
            "Please open https://www.google.com/device and input code QRCG-HPXM\n",
            "Press enter when you have completed this step.\n"
          ]
        },
        {
          "output_type": "execute_result",
          "data": {
            "text/plain": [
              "'/content/ytaudio.mp4'"
            ],
            "application/vnd.google.colaboratory.intrinsic+json": {
              "type": "string"
            }
          },
          "metadata": {},
          "execution_count": 7
        }
      ]
    },
    {
      "cell_type": "code",
      "source": [
        "! ffmpeg -i ytaudio.mp4 -acodec pcm_s16le -ar 16000 ytaudio.wav"
      ],
      "metadata": {
        "colab": {
          "base_uri": "https://localhost:8080/"
        },
        "id": "PaT2UygT6n5U",
        "outputId": "0520d66a-0dc8-4d1f-f1fa-f1519e699d88"
      },
      "execution_count": null,
      "outputs": [
        {
          "output_type": "stream",
          "name": "stdout",
          "text": [
            "ffmpeg version 4.4.2-0ubuntu0.22.04.1 Copyright (c) 2000-2021 the FFmpeg developers\n",
            "  built with gcc 11 (Ubuntu 11.2.0-19ubuntu1)\n",
            "  configuration: --prefix=/usr --extra-version=0ubuntu0.22.04.1 --toolchain=hardened --libdir=/usr/lib/x86_64-linux-gnu --incdir=/usr/include/x86_64-linux-gnu --arch=amd64 --enable-gpl --disable-stripping --enable-gnutls --enable-ladspa --enable-libaom --enable-libass --enable-libbluray --enable-libbs2b --enable-libcaca --enable-libcdio --enable-libcodec2 --enable-libdav1d --enable-libflite --enable-libfontconfig --enable-libfreetype --enable-libfribidi --enable-libgme --enable-libgsm --enable-libjack --enable-libmp3lame --enable-libmysofa --enable-libopenjpeg --enable-libopenmpt --enable-libopus --enable-libpulse --enable-librabbitmq --enable-librubberband --enable-libshine --enable-libsnappy --enable-libsoxr --enable-libspeex --enable-libsrt --enable-libssh --enable-libtheora --enable-libtwolame --enable-libvidstab --enable-libvorbis --enable-libvpx --enable-libwebp --enable-libx265 --enable-libxml2 --enable-libxvid --enable-libzimg --enable-libzmq --enable-libzvbi --enable-lv2 --enable-omx --enable-openal --enable-opencl --enable-opengl --enable-sdl2 --enable-pocketsphinx --enable-librsvg --enable-libmfx --enable-libdc1394 --enable-libdrm --enable-libiec61883 --enable-chromaprint --enable-frei0r --enable-libx264 --enable-shared\n",
            "  libavutil      56. 70.100 / 56. 70.100\n",
            "  libavcodec     58.134.100 / 58.134.100\n",
            "  libavformat    58. 76.100 / 58. 76.100\n",
            "  libavdevice    58. 13.100 / 58. 13.100\n",
            "  libavfilter     7.110.100 /  7.110.100\n",
            "  libswscale      5.  9.100 /  5.  9.100\n",
            "  libswresample   3.  9.100 /  3.  9.100\n",
            "  libpostproc    55.  9.100 / 55.  9.100\n",
            "Input #0, mov,mp4,m4a,3gp,3g2,mj2, from 'ytaudio.mp4':\n",
            "  Metadata:\n",
            "    major_brand     : dash\n",
            "    minor_version   : 0\n",
            "    compatible_brands: iso6mp41\n",
            "    creation_time   : 2023-07-08T13:02:48.000000Z\n",
            "  Duration: 00:02:50.39, start: 0.000000, bitrate: 48 kb/s\n",
            "  Stream #0:0(eng): Audio: aac (HE-AAC) (mp4a / 0x6134706D), 44100 Hz, stereo, fltp, 2 kb/s (default)\n",
            "    Metadata:\n",
            "      creation_time   : 2023-07-08T13:02:48.000000Z\n",
            "      handler_name    : ISO Media file produced by Google Inc.\n",
            "      vendor_id       : [0][0][0][0]\n",
            "Stream mapping:\n",
            "  Stream #0:0 -> #0:0 (aac (native) -> pcm_s16le (native))\n",
            "Press [q] to stop, [?] for help\n",
            "Output #0, wav, to 'ytaudio.wav':\n",
            "  Metadata:\n",
            "    major_brand     : dash\n",
            "    minor_version   : 0\n",
            "    compatible_brands: iso6mp41\n",
            "    ISFT            : Lavf58.76.100\n",
            "  Stream #0:0(eng): Audio: pcm_s16le ([1][0][0][0] / 0x0001), 16000 Hz, stereo, s16, 512 kb/s (default)\n",
            "    Metadata:\n",
            "      creation_time   : 2023-07-08T13:02:48.000000Z\n",
            "      handler_name    : ISO Media file produced by Google Inc.\n",
            "      vendor_id       : [0][0][0][0]\n",
            "      encoder         : Lavc58.134.100 pcm_s16le\n",
            "size=       3kB time=00:00:00.00 bitrate=N/A speed=   0x    \rsize=   10649kB time=00:02:50.38 bitrate= 512.0kbits/s speed= 428x    \n",
            "video:0kB audio:10649kB subtitle:0kB other streams:0kB global headers:0kB muxing overhead: 0.000715%\n"
          ]
        }
      ]
    },
    {
      "cell_type": "code",
      "source": [
        "import librosa"
      ],
      "metadata": {
        "id": "q9dIZE326rSG"
      },
      "execution_count": null,
      "outputs": []
    },
    {
      "cell_type": "code",
      "source": [
        "input_file = '/content/ytaudio.wav'"
      ],
      "metadata": {
        "id": "GzwXQ8J76xV6"
      },
      "execution_count": null,
      "outputs": []
    },
    {
      "cell_type": "code",
      "source": [
        "print(librosa.get_samplerate(input_file))\n",
        "\n",
        "stream = librosa.stream(\n",
        "    input_file,\n",
        "    block_length=30,\n",
        "    frame_length=16000,\n",
        "    hop_length=16000\n",
        ")"
      ],
      "metadata": {
        "colab": {
          "base_uri": "https://localhost:8080/"
        },
        "id": "iLC7MN2T65a7",
        "outputId": "c934e6b4-1724-45d8-8559-8e02053f87e6"
      },
      "execution_count": null,
      "outputs": [
        {
          "output_type": "stream",
          "name": "stdout",
          "text": [
            "16000\n"
          ]
        }
      ]
    },
    {
      "cell_type": "code",
      "source": [
        "import soundfile as sf"
      ],
      "metadata": {
        "id": "WQDenAE46-Ng"
      },
      "execution_count": null,
      "outputs": []
    },
    {
      "cell_type": "code",
      "source": [
        "for i,speech in enumerate(stream):\n",
        "  sf.write(f'{i}.wav', speech, 16000)"
      ],
      "metadata": {
        "id": "Y1dBFgon7X_D"
      },
      "execution_count": null,
      "outputs": []
    },
    {
      "cell_type": "code",
      "source": [
        "audio_path =[]\n",
        "for a in range(i+1):\n",
        "  audio_path.append(f'/content/{a}.wav')\n",
        "  audio_path"
      ],
      "metadata": {
        "id": "YRJMllqa7Yd8"
      },
      "execution_count": null,
      "outputs": []
    },
    {
      "cell_type": "code",
      "source": [
        "!pip install SpeechRecognition"
      ],
      "metadata": {
        "colab": {
          "base_uri": "https://localhost:8080/"
        },
        "id": "mnlu3g8T7Y-K",
        "outputId": "833c3a05-bb15-49b5-c99d-fb143d425986"
      },
      "execution_count": null,
      "outputs": [
        {
          "output_type": "stream",
          "name": "stdout",
          "text": [
            "Collecting SpeechRecognition\n",
            "  Downloading SpeechRecognition-3.10.0-py2.py3-none-any.whl (32.8 MB)\n",
            "\u001b[2K     \u001b[90m━━━━━━━━━━━━━━━━━━━━━━━━━━━━━━━━━━━━━━━━\u001b[0m \u001b[32m32.8/32.8 MB\u001b[0m \u001b[31m40.4 MB/s\u001b[0m eta \u001b[36m0:00:00\u001b[0m\n",
            "\u001b[?25hRequirement already satisfied: requests>=2.26.0 in /usr/local/lib/python3.10/dist-packages (from SpeechRecognition) (2.31.0)\n",
            "Requirement already satisfied: charset-normalizer<4,>=2 in /usr/local/lib/python3.10/dist-packages (from requests>=2.26.0->SpeechRecognition) (3.3.0)\n",
            "Requirement already satisfied: idna<4,>=2.5 in /usr/local/lib/python3.10/dist-packages (from requests>=2.26.0->SpeechRecognition) (3.4)\n",
            "Requirement already satisfied: urllib3<3,>=1.21.1 in /usr/local/lib/python3.10/dist-packages (from requests>=2.26.0->SpeechRecognition) (2.0.6)\n",
            "Requirement already satisfied: certifi>=2017.4.17 in /usr/local/lib/python3.10/dist-packages (from requests>=2.26.0->SpeechRecognition) (2023.7.22)\n",
            "Installing collected packages: SpeechRecognition\n",
            "Successfully installed SpeechRecognition-3.10.0\n"
          ]
        }
      ]
    },
    {
      "cell_type": "code",
      "source": [
        "audio_path"
      ],
      "metadata": {
        "colab": {
          "base_uri": "https://localhost:8080/"
        },
        "id": "B4sSOlec7ZV0",
        "outputId": "ec470eaa-05b9-4354-e66e-e02129735988"
      },
      "execution_count": null,
      "outputs": [
        {
          "output_type": "execute_result",
          "data": {
            "text/plain": [
              "['/content/0.wav',\n",
              " '/content/1.wav',\n",
              " '/content/2.wav',\n",
              " '/content/3.wav',\n",
              " '/content/4.wav',\n",
              " '/content/5.wav']"
            ]
          },
          "metadata": {},
          "execution_count": 16
        }
      ]
    },
    {
      "cell_type": "code",
      "source": [
        "import os\n",
        "import speech_recognition as sr\n",
        "import wave"
      ],
      "metadata": {
        "id": "3IKus4ZP7ZpW"
      },
      "execution_count": null,
      "outputs": []
    },
    {
      "cell_type": "code",
      "source": [
        "text=\"\"\n",
        "for audio in audio_path:\n",
        "  r=sr.Recognizer()\n",
        "  audio_file=sr.AudioFile(audio)\n",
        "  with audio_file as source:\n",
        "      a1 = r.record(source)\n",
        "      t1 = r.recognize_google(a1)\n",
        "  text+=\" \"+t1"
      ],
      "metadata": {
        "id": "hhnKmZ_u7Z7m"
      },
      "execution_count": null,
      "outputs": []
    },
    {
      "cell_type": "code",
      "source": [
        "text"
      ],
      "metadata": {
        "colab": {
          "base_uri": "https://localhost:8080/",
          "height": 139
        },
        "id": "YLgabCAP7xgJ",
        "outputId": "da8756c2-55a3-405d-f11b-6aa809034135"
      },
      "execution_count": null,
      "outputs": [
        {
          "output_type": "execute_result",
          "data": {
            "text/plain": [
              "\" working professionals I hope you have heard about a platform coding in jazz if not let me just be a few something about this coding ninjas open courses from basic to Advanced leveling programming in c plus plus Java python machine learning data science and these courses are will structures and paid courses but what if I say now you have chance to get these courses for your post yes it is possible but how big is coding in charge is conducting a scholarship test which would be on 11th and 12th of July and the time is 5:00 p.m. to 9:00 p.m. now you can attempt this test either on 11th or 12th not on both the dates right while resisting for this test don't worry the link I put in the description why you should take this scholarship test and why you should enroll basically in these courses how these horses are different what benefit you will get after involved after enrolling in these courses okay the first thing the horses are very well structured for college students and if a student put right for attend hard work then these courses are enough to correct any topic and you will get exceptional content here because these courses are being designed by their experts from IIT Stanford Amazon Facebook 121 doubt resolution Support also will get your doubt usually get resolved within 1 to 2 hours you will get a chance to work on live project just to test your skills against your peers and one to one domain export session would also be conducted and they're having a very good rating on Facebook and Google and the list of benefits would be going on now what if you say you are not from a coding background so how can you go for this test you don't play the ABCD of coding don't worry what is the pattern you will get only 15 attitude based mcqs right no coding questions will be there and the time limit will be 30 minutes plus one more plus one is what there is no negative marking right so you can go anywhere you can go for this test so now everyone have a chance to win up to 100% scholarship to study these courses and minimum 10445 rolling in these courses and learn new skills upgrade your resume and beat the competition so all the relevant things and details will find in the description box of this video you can go and check out now I'll see you next week\""
            ],
            "application/vnd.google.colaboratory.intrinsic+json": {
              "type": "string"
            }
          },
          "metadata": {},
          "execution_count": 19
        }
      ]
    },
    {
      "cell_type": "code",
      "source": [
        "!pip install -U spacy\n",
        "!python -m spacy download en_core_web_sm"
      ],
      "metadata": {
        "colab": {
          "base_uri": "https://localhost:8080/"
        },
        "id": "pQMkac-K7xWh",
        "outputId": "1efdf952-586c-4d13-da5e-3dba4a840520"
      },
      "execution_count": null,
      "outputs": [
        {
          "output_type": "stream",
          "name": "stdout",
          "text": [
            "Requirement already satisfied: spacy in /usr/local/lib/python3.10/dist-packages (3.6.1)\n",
            "Collecting spacy\n",
            "  Downloading spacy-3.7.1-cp310-cp310-manylinux_2_17_x86_64.manylinux2014_x86_64.whl (6.6 MB)\n",
            "\u001b[2K     \u001b[90m━━━━━━━━━━━━━━━━━━━━━━━━━━━━━━━━━━━━━━━━\u001b[0m \u001b[32m6.6/6.6 MB\u001b[0m \u001b[31m44.6 MB/s\u001b[0m eta \u001b[36m0:00:00\u001b[0m\n",
            "\u001b[?25hRequirement already satisfied: spacy-legacy<3.1.0,>=3.0.11 in /usr/local/lib/python3.10/dist-packages (from spacy) (3.0.12)\n",
            "Requirement already satisfied: spacy-loggers<2.0.0,>=1.0.0 in /usr/local/lib/python3.10/dist-packages (from spacy) (1.0.5)\n",
            "Requirement already satisfied: murmurhash<1.1.0,>=0.28.0 in /usr/local/lib/python3.10/dist-packages (from spacy) (1.0.10)\n",
            "Requirement already satisfied: cymem<2.1.0,>=2.0.2 in /usr/local/lib/python3.10/dist-packages (from spacy) (2.0.8)\n",
            "Requirement already satisfied: preshed<3.1.0,>=3.0.2 in /usr/local/lib/python3.10/dist-packages (from spacy) (3.0.9)\n",
            "Requirement already satisfied: thinc<8.3.0,>=8.1.8 in /usr/local/lib/python3.10/dist-packages (from spacy) (8.1.12)\n",
            "Requirement already satisfied: wasabi<1.2.0,>=0.9.1 in /usr/local/lib/python3.10/dist-packages (from spacy) (1.1.2)\n",
            "Requirement already satisfied: srsly<3.0.0,>=2.4.3 in /usr/local/lib/python3.10/dist-packages (from spacy) (2.4.8)\n",
            "Requirement already satisfied: catalogue<2.1.0,>=2.0.6 in /usr/local/lib/python3.10/dist-packages (from spacy) (2.0.10)\n",
            "Collecting weasel<0.4.0,>=0.1.0 (from spacy)\n",
            "  Downloading weasel-0.3.2-py3-none-any.whl (50 kB)\n",
            "\u001b[2K     \u001b[90m━━━━━━━━━━━━━━━━━━━━━━━━━━━━━━━━━━━━━━━━\u001b[0m \u001b[32m50.0/50.0 kB\u001b[0m \u001b[31m6.0 MB/s\u001b[0m eta \u001b[36m0:00:00\u001b[0m\n",
            "\u001b[?25hRequirement already satisfied: typer<0.10.0,>=0.3.0 in /usr/local/lib/python3.10/dist-packages (from spacy) (0.9.0)\n",
            "Requirement already satisfied: pathy>=0.10.0 in /usr/local/lib/python3.10/dist-packages (from spacy) (0.10.2)\n",
            "Requirement already satisfied: smart-open<7.0.0,>=5.2.1 in /usr/local/lib/python3.10/dist-packages (from spacy) (6.4.0)\n",
            "Requirement already satisfied: tqdm<5.0.0,>=4.38.0 in /usr/local/lib/python3.10/dist-packages (from spacy) (4.66.1)\n",
            "Requirement already satisfied: requests<3.0.0,>=2.13.0 in /usr/local/lib/python3.10/dist-packages (from spacy) (2.31.0)\n",
            "Requirement already satisfied: pydantic!=1.8,!=1.8.1,<3.0.0,>=1.7.4 in /usr/local/lib/python3.10/dist-packages (from spacy) (1.10.13)\n",
            "Requirement already satisfied: jinja2 in /usr/local/lib/python3.10/dist-packages (from spacy) (3.1.2)\n",
            "Requirement already satisfied: setuptools in /usr/local/lib/python3.10/dist-packages (from spacy) (67.7.2)\n",
            "Requirement already satisfied: packaging>=20.0 in /usr/local/lib/python3.10/dist-packages (from spacy) (23.2)\n",
            "Requirement already satisfied: langcodes<4.0.0,>=3.2.0 in /usr/local/lib/python3.10/dist-packages (from spacy) (3.3.0)\n",
            "Requirement already satisfied: numpy>=1.19.0 in /usr/local/lib/python3.10/dist-packages (from spacy) (1.23.5)\n",
            "Requirement already satisfied: typing-extensions>=4.2.0 in /usr/local/lib/python3.10/dist-packages (from pydantic!=1.8,!=1.8.1,<3.0.0,>=1.7.4->spacy) (4.5.0)\n",
            "Requirement already satisfied: charset-normalizer<4,>=2 in /usr/local/lib/python3.10/dist-packages (from requests<3.0.0,>=2.13.0->spacy) (3.3.0)\n",
            "Requirement already satisfied: idna<4,>=2.5 in /usr/local/lib/python3.10/dist-packages (from requests<3.0.0,>=2.13.0->spacy) (3.4)\n",
            "Requirement already satisfied: urllib3<3,>=1.21.1 in /usr/local/lib/python3.10/dist-packages (from requests<3.0.0,>=2.13.0->spacy) (2.0.6)\n",
            "Requirement already satisfied: certifi>=2017.4.17 in /usr/local/lib/python3.10/dist-packages (from requests<3.0.0,>=2.13.0->spacy) (2023.7.22)\n",
            "Requirement already satisfied: blis<0.8.0,>=0.7.8 in /usr/local/lib/python3.10/dist-packages (from thinc<8.3.0,>=8.1.8->spacy) (0.7.11)\n",
            "Requirement already satisfied: confection<1.0.0,>=0.0.1 in /usr/local/lib/python3.10/dist-packages (from thinc<8.3.0,>=8.1.8->spacy) (0.1.3)\n",
            "Requirement already satisfied: click<9.0.0,>=7.1.1 in /usr/local/lib/python3.10/dist-packages (from typer<0.10.0,>=0.3.0->spacy) (8.1.7)\n",
            "Collecting cloudpathlib<0.16.0,>=0.7.0 (from weasel<0.4.0,>=0.1.0->spacy)\n",
            "  Downloading cloudpathlib-0.15.1-py3-none-any.whl (43 kB)\n",
            "\u001b[2K     \u001b[90m━━━━━━━━━━━━━━━━━━━━━━━━━━━━━━━━━━━━━━━━\u001b[0m \u001b[32m43.9/43.9 kB\u001b[0m \u001b[31m5.1 MB/s\u001b[0m eta \u001b[36m0:00:00\u001b[0m\n",
            "\u001b[?25hRequirement already satisfied: MarkupSafe>=2.0 in /usr/local/lib/python3.10/dist-packages (from jinja2->spacy) (2.1.3)\n",
            "Installing collected packages: cloudpathlib, weasel, spacy\n",
            "  Attempting uninstall: spacy\n",
            "    Found existing installation: spacy 3.6.1\n",
            "    Uninstalling spacy-3.6.1:\n",
            "      Successfully uninstalled spacy-3.6.1\n",
            "\u001b[31mERROR: pip's dependency resolver does not currently take into account all the packages that are installed. This behaviour is the source of the following dependency conflicts.\n",
            "en-core-web-sm 3.6.0 requires spacy<3.7.0,>=3.6.0, but you have spacy 3.7.1 which is incompatible.\u001b[0m\u001b[31m\n",
            "\u001b[0mSuccessfully installed cloudpathlib-0.15.1 spacy-3.7.1 weasel-0.3.2\n",
            "2023-10-11 08:15:01.738458: I tensorflow/core/platform/cpu_feature_guard.cc:182] This TensorFlow binary is optimized to use available CPU instructions in performance-critical operations.\n",
            "To enable the following instructions: AVX2 FMA, in other operations, rebuild TensorFlow with the appropriate compiler flags.\n",
            "2023-10-11 08:15:03.249259: W tensorflow/compiler/tf2tensorrt/utils/py_utils.cc:38] TF-TRT Warning: Could not find TensorRT\n",
            "Collecting en-core-web-sm==3.7.0\n",
            "  Downloading https://github.com/explosion/spacy-models/releases/download/en_core_web_sm-3.7.0/en_core_web_sm-3.7.0-py3-none-any.whl (12.8 MB)\n",
            "\u001b[2K     \u001b[90m━━━━━━━━━━━━━━━━━━━━━━━━━━━━━━━━━━━━━━━━\u001b[0m \u001b[32m12.8/12.8 MB\u001b[0m \u001b[31m49.2 MB/s\u001b[0m eta \u001b[36m0:00:00\u001b[0m\n",
            "\u001b[?25hRequirement already satisfied: spacy<3.8.0,>=3.7.0 in /usr/local/lib/python3.10/dist-packages (from en-core-web-sm==3.7.0) (3.7.1)\n",
            "Requirement already satisfied: spacy-legacy<3.1.0,>=3.0.11 in /usr/local/lib/python3.10/dist-packages (from spacy<3.8.0,>=3.7.0->en-core-web-sm==3.7.0) (3.0.12)\n",
            "Requirement already satisfied: spacy-loggers<2.0.0,>=1.0.0 in /usr/local/lib/python3.10/dist-packages (from spacy<3.8.0,>=3.7.0->en-core-web-sm==3.7.0) (1.0.5)\n",
            "Requirement already satisfied: murmurhash<1.1.0,>=0.28.0 in /usr/local/lib/python3.10/dist-packages (from spacy<3.8.0,>=3.7.0->en-core-web-sm==3.7.0) (1.0.10)\n",
            "Requirement already satisfied: cymem<2.1.0,>=2.0.2 in /usr/local/lib/python3.10/dist-packages (from spacy<3.8.0,>=3.7.0->en-core-web-sm==3.7.0) (2.0.8)\n",
            "Requirement already satisfied: preshed<3.1.0,>=3.0.2 in /usr/local/lib/python3.10/dist-packages (from spacy<3.8.0,>=3.7.0->en-core-web-sm==3.7.0) (3.0.9)\n",
            "Requirement already satisfied: thinc<8.3.0,>=8.1.8 in /usr/local/lib/python3.10/dist-packages (from spacy<3.8.0,>=3.7.0->en-core-web-sm==3.7.0) (8.1.12)\n",
            "Requirement already satisfied: wasabi<1.2.0,>=0.9.1 in /usr/local/lib/python3.10/dist-packages (from spacy<3.8.0,>=3.7.0->en-core-web-sm==3.7.0) (1.1.2)\n",
            "Requirement already satisfied: srsly<3.0.0,>=2.4.3 in /usr/local/lib/python3.10/dist-packages (from spacy<3.8.0,>=3.7.0->en-core-web-sm==3.7.0) (2.4.8)\n",
            "Requirement already satisfied: catalogue<2.1.0,>=2.0.6 in /usr/local/lib/python3.10/dist-packages (from spacy<3.8.0,>=3.7.0->en-core-web-sm==3.7.0) (2.0.10)\n",
            "Requirement already satisfied: weasel<0.4.0,>=0.1.0 in /usr/local/lib/python3.10/dist-packages (from spacy<3.8.0,>=3.7.0->en-core-web-sm==3.7.0) (0.3.2)\n",
            "Requirement already satisfied: typer<0.10.0,>=0.3.0 in /usr/local/lib/python3.10/dist-packages (from spacy<3.8.0,>=3.7.0->en-core-web-sm==3.7.0) (0.9.0)\n",
            "Requirement already satisfied: pathy>=0.10.0 in /usr/local/lib/python3.10/dist-packages (from spacy<3.8.0,>=3.7.0->en-core-web-sm==3.7.0) (0.10.2)\n",
            "Requirement already satisfied: smart-open<7.0.0,>=5.2.1 in /usr/local/lib/python3.10/dist-packages (from spacy<3.8.0,>=3.7.0->en-core-web-sm==3.7.0) (6.4.0)\n",
            "Requirement already satisfied: tqdm<5.0.0,>=4.38.0 in /usr/local/lib/python3.10/dist-packages (from spacy<3.8.0,>=3.7.0->en-core-web-sm==3.7.0) (4.66.1)\n",
            "Requirement already satisfied: requests<3.0.0,>=2.13.0 in /usr/local/lib/python3.10/dist-packages (from spacy<3.8.0,>=3.7.0->en-core-web-sm==3.7.0) (2.31.0)\n",
            "Requirement already satisfied: pydantic!=1.8,!=1.8.1,<3.0.0,>=1.7.4 in /usr/local/lib/python3.10/dist-packages (from spacy<3.8.0,>=3.7.0->en-core-web-sm==3.7.0) (1.10.13)\n",
            "Requirement already satisfied: jinja2 in /usr/local/lib/python3.10/dist-packages (from spacy<3.8.0,>=3.7.0->en-core-web-sm==3.7.0) (3.1.2)\n",
            "Requirement already satisfied: setuptools in /usr/local/lib/python3.10/dist-packages (from spacy<3.8.0,>=3.7.0->en-core-web-sm==3.7.0) (67.7.2)\n",
            "Requirement already satisfied: packaging>=20.0 in /usr/local/lib/python3.10/dist-packages (from spacy<3.8.0,>=3.7.0->en-core-web-sm==3.7.0) (23.2)\n",
            "Requirement already satisfied: langcodes<4.0.0,>=3.2.0 in /usr/local/lib/python3.10/dist-packages (from spacy<3.8.0,>=3.7.0->en-core-web-sm==3.7.0) (3.3.0)\n",
            "Requirement already satisfied: numpy>=1.19.0 in /usr/local/lib/python3.10/dist-packages (from spacy<3.8.0,>=3.7.0->en-core-web-sm==3.7.0) (1.23.5)\n",
            "Requirement already satisfied: typing-extensions>=4.2.0 in /usr/local/lib/python3.10/dist-packages (from pydantic!=1.8,!=1.8.1,<3.0.0,>=1.7.4->spacy<3.8.0,>=3.7.0->en-core-web-sm==3.7.0) (4.5.0)\n",
            "Requirement already satisfied: charset-normalizer<4,>=2 in /usr/local/lib/python3.10/dist-packages (from requests<3.0.0,>=2.13.0->spacy<3.8.0,>=3.7.0->en-core-web-sm==3.7.0) (3.3.0)\n",
            "Requirement already satisfied: idna<4,>=2.5 in /usr/local/lib/python3.10/dist-packages (from requests<3.0.0,>=2.13.0->spacy<3.8.0,>=3.7.0->en-core-web-sm==3.7.0) (3.4)\n",
            "Requirement already satisfied: urllib3<3,>=1.21.1 in /usr/local/lib/python3.10/dist-packages (from requests<3.0.0,>=2.13.0->spacy<3.8.0,>=3.7.0->en-core-web-sm==3.7.0) (2.0.6)\n",
            "Requirement already satisfied: certifi>=2017.4.17 in /usr/local/lib/python3.10/dist-packages (from requests<3.0.0,>=2.13.0->spacy<3.8.0,>=3.7.0->en-core-web-sm==3.7.0) (2023.7.22)\n",
            "Requirement already satisfied: blis<0.8.0,>=0.7.8 in /usr/local/lib/python3.10/dist-packages (from thinc<8.3.0,>=8.1.8->spacy<3.8.0,>=3.7.0->en-core-web-sm==3.7.0) (0.7.11)\n",
            "Requirement already satisfied: confection<1.0.0,>=0.0.1 in /usr/local/lib/python3.10/dist-packages (from thinc<8.3.0,>=8.1.8->spacy<3.8.0,>=3.7.0->en-core-web-sm==3.7.0) (0.1.3)\n",
            "Requirement already satisfied: click<9.0.0,>=7.1.1 in /usr/local/lib/python3.10/dist-packages (from typer<0.10.0,>=0.3.0->spacy<3.8.0,>=3.7.0->en-core-web-sm==3.7.0) (8.1.7)\n",
            "Requirement already satisfied: cloudpathlib<0.16.0,>=0.7.0 in /usr/local/lib/python3.10/dist-packages (from weasel<0.4.0,>=0.1.0->spacy<3.8.0,>=3.7.0->en-core-web-sm==3.7.0) (0.15.1)\n",
            "Requirement already satisfied: MarkupSafe>=2.0 in /usr/local/lib/python3.10/dist-packages (from jinja2->spacy<3.8.0,>=3.7.0->en-core-web-sm==3.7.0) (2.1.3)\n",
            "Installing collected packages: en-core-web-sm\n",
            "  Attempting uninstall: en-core-web-sm\n",
            "    Found existing installation: en-core-web-sm 3.6.0\n",
            "    Uninstalling en-core-web-sm-3.6.0:\n",
            "      Successfully uninstalled en-core-web-sm-3.6.0\n",
            "Successfully installed en-core-web-sm-3.7.0\n",
            "\u001b[38;5;2m✔ Download and installation successful\u001b[0m\n",
            "You can now load the package via spacy.load('en_core_web_sm')\n"
          ]
        }
      ]
    },
    {
      "cell_type": "code",
      "source": [
        "import spacy\n",
        "from spacy.lang.en.stop_words import STOP_WORDS\n",
        "from string import punctuation"
      ],
      "metadata": {
        "id": "O7ZOZVEp7xMy"
      },
      "execution_count": null,
      "outputs": []
    },
    {
      "cell_type": "code",
      "source": [
        "stopwords=list(STOP_WORDS)\n",
        "stopwords"
      ],
      "metadata": {
        "colab": {
          "base_uri": "https://localhost:8080/"
        },
        "id": "npWWZFuZ7xCQ",
        "outputId": "25960e9c-d92f-4272-97b6-a080d02a3558"
      },
      "execution_count": null,
      "outputs": [
        {
          "output_type": "execute_result",
          "data": {
            "text/plain": [
              "['such',\n",
              " 'above',\n",
              " 'under',\n",
              " 'also',\n",
              " 'still',\n",
              " 'somewhere',\n",
              " 'moreover',\n",
              " 'for',\n",
              " 'beside',\n",
              " 'itself',\n",
              " 'who',\n",
              " 'really',\n",
              " 'has',\n",
              " 'over',\n",
              " 'via',\n",
              " 'up',\n",
              " 'whose',\n",
              " 'doing',\n",
              " 'at',\n",
              " 'though',\n",
              " 'after',\n",
              " 'six',\n",
              " 'it',\n",
              " 'something',\n",
              " 'nevertheless',\n",
              " 'whither',\n",
              " 'elsewhere',\n",
              " 'and',\n",
              " 'between',\n",
              " 'where',\n",
              " 'across',\n",
              " 'behind',\n",
              " 'myself',\n",
              " 'only',\n",
              " 'be',\n",
              " 'hereupon',\n",
              " 'his',\n",
              " 'afterwards',\n",
              " 'so',\n",
              " 'ten',\n",
              " 'been',\n",
              " '’ve',\n",
              " 'side',\n",
              " 'nowhere',\n",
              " 'per',\n",
              " 'these',\n",
              " 'towards',\n",
              " 'had',\n",
              " 'a',\n",
              " 'must',\n",
              " 'as',\n",
              " 'sometime',\n",
              " 'top',\n",
              " 'should',\n",
              " '‘re',\n",
              " 'few',\n",
              " 'give',\n",
              " 'no',\n",
              " 'among',\n",
              " 'sixty',\n",
              " 'thereafter',\n",
              " 'thus',\n",
              " 'what',\n",
              " 'else',\n",
              " 'n’t',\n",
              " 'they',\n",
              " 'her',\n",
              " 'both',\n",
              " \"'re\",\n",
              " 'five',\n",
              " 'me',\n",
              " 'can',\n",
              " 'since',\n",
              " 'twenty',\n",
              " 'noone',\n",
              " 'with',\n",
              " 'i',\n",
              " 'bottom',\n",
              " 'everything',\n",
              " '’s',\n",
              " 'to',\n",
              " 'now',\n",
              " 'their',\n",
              " 'which',\n",
              " 'make',\n",
              " 'every',\n",
              " 'somehow',\n",
              " 'last',\n",
              " 'yet',\n",
              " 'whoever',\n",
              " 'too',\n",
              " 'latter',\n",
              " 'much',\n",
              " 'hence',\n",
              " 'into',\n",
              " 'third',\n",
              " 'four',\n",
              " 'some',\n",
              " 'them',\n",
              " 'used',\n",
              " 'whether',\n",
              " 'herein',\n",
              " 'because',\n",
              " 'just',\n",
              " 'became',\n",
              " 'that',\n",
              " 'quite',\n",
              " 'there',\n",
              " 'within',\n",
              " 'out',\n",
              " 'yourselves',\n",
              " \"'m\",\n",
              " 'onto',\n",
              " \"'ll\",\n",
              " 'less',\n",
              " 'will',\n",
              " 'whereby',\n",
              " 'are',\n",
              " 'call',\n",
              " 'due',\n",
              " 'becomes',\n",
              " 'all',\n",
              " 'might',\n",
              " 'him',\n",
              " 'several',\n",
              " 'except',\n",
              " 'amongst',\n",
              " 'against',\n",
              " 'whatever',\n",
              " 'neither',\n",
              " \"'d\",\n",
              " 'another',\n",
              " 'once',\n",
              " 'rather',\n",
              " 'then',\n",
              " 'put',\n",
              " 'therefore',\n",
              " 'full',\n",
              " 'mine',\n",
              " '‘m',\n",
              " 'fifteen',\n",
              " 'cannot',\n",
              " '’ll',\n",
              " 'herself',\n",
              " 'sometimes',\n",
              " 'wherein',\n",
              " 'everywhere',\n",
              " 'perhaps',\n",
              " 'always',\n",
              " 'my',\n",
              " 'or',\n",
              " 'front',\n",
              " 'indeed',\n",
              " 'hereafter',\n",
              " '‘s',\n",
              " 'already',\n",
              " 'below',\n",
              " \"'ve\",\n",
              " 'our',\n",
              " 'about',\n",
              " \"n't\",\n",
              " 'whereas',\n",
              " 'anywhere',\n",
              " 'while',\n",
              " 'often',\n",
              " 'whence',\n",
              " 'may',\n",
              " 'next',\n",
              " 'before',\n",
              " 'anyhow',\n",
              " 'down',\n",
              " 'further',\n",
              " 'three',\n",
              " 'again',\n",
              " 'amount',\n",
              " 'by',\n",
              " 'does',\n",
              " 'see',\n",
              " 'move',\n",
              " 'of',\n",
              " 'serious',\n",
              " 'back',\n",
              " 'beforehand',\n",
              " 'in',\n",
              " 'here',\n",
              " 'did',\n",
              " 'she',\n",
              " 'whole',\n",
              " 'why',\n",
              " 'am',\n",
              " 'an',\n",
              " 'eleven',\n",
              " 'whom',\n",
              " 'he',\n",
              " 'was',\n",
              " 'we',\n",
              " 'together',\n",
              " 'other',\n",
              " 'former',\n",
              " 'but',\n",
              " 'thence',\n",
              " 'were',\n",
              " 'even',\n",
              " 'anything',\n",
              " 'thereupon',\n",
              " 'seem',\n",
              " 'two',\n",
              " 'throughout',\n",
              " 'hers',\n",
              " 'besides',\n",
              " 'part',\n",
              " 'same',\n",
              " 'own',\n",
              " 'being',\n",
              " 'either',\n",
              " 're',\n",
              " 'please',\n",
              " 'twelve',\n",
              " 'never',\n",
              " 'thru',\n",
              " 'is',\n",
              " '’re',\n",
              " 'latterly',\n",
              " 'each',\n",
              " 'beyond',\n",
              " 'than',\n",
              " 'from',\n",
              " 'anyone',\n",
              " 'go',\n",
              " 'show',\n",
              " 'not',\n",
              " 'none',\n",
              " 'one',\n",
              " 'empty',\n",
              " 'get',\n",
              " \"'s\",\n",
              " 'until',\n",
              " 'its',\n",
              " 'have',\n",
              " 'enough',\n",
              " 'could',\n",
              " 'thereby',\n",
              " 'say',\n",
              " 'otherwise',\n",
              " 'any',\n",
              " 'you',\n",
              " 'others',\n",
              " 'along',\n",
              " 'almost',\n",
              " 'himself',\n",
              " 'forty',\n",
              " 'anyway',\n",
              " 'how',\n",
              " 'meanwhile',\n",
              " 'would',\n",
              " 'more',\n",
              " 'seems',\n",
              " 'namely',\n",
              " 'regarding',\n",
              " 'hereby',\n",
              " 'this',\n",
              " 'formerly',\n",
              " 'whereafter',\n",
              " 'whenever',\n",
              " 'nothing',\n",
              " 'when',\n",
              " 'during',\n",
              " 'yours',\n",
              " 'yourself',\n",
              " 'nobody',\n",
              " 'take',\n",
              " 'ourselves',\n",
              " 'your',\n",
              " 'name',\n",
              " 'made',\n",
              " 'everyone',\n",
              " 'many',\n",
              " 'unless',\n",
              " 'n‘t',\n",
              " 'off',\n",
              " 'keep',\n",
              " 'without',\n",
              " 'ever',\n",
              " 'done',\n",
              " 'very',\n",
              " 'themselves',\n",
              " 'whereupon',\n",
              " '‘d',\n",
              " 'do',\n",
              " 'ca',\n",
              " 'becoming',\n",
              " 'mostly',\n",
              " 'fifty',\n",
              " '‘ve',\n",
              " 'the',\n",
              " 'those',\n",
              " 'however',\n",
              " '’m',\n",
              " 'using',\n",
              " 'eight',\n",
              " 'alone',\n",
              " 'if',\n",
              " 'least',\n",
              " 'us',\n",
              " 'most',\n",
              " 'ours',\n",
              " 'toward',\n",
              " 'wherever',\n",
              " 'various',\n",
              " 'upon',\n",
              " 'first',\n",
              " 'therein',\n",
              " 'although',\n",
              " 'on',\n",
              " 'become',\n",
              " 'nor',\n",
              " '‘ll',\n",
              " 'hundred',\n",
              " 'nine',\n",
              " 'seemed',\n",
              " 'through',\n",
              " 'seeming',\n",
              " 'around',\n",
              " 'someone',\n",
              " '’d',\n",
              " 'well']"
            ]
          },
          "metadata": {},
          "execution_count": 22
        }
      ]
    },
    {
      "cell_type": "code",
      "source": [
        "nlp = spacy.load('en_core_web_sm')"
      ],
      "metadata": {
        "id": "KvzrmpdQ7w47"
      },
      "execution_count": null,
      "outputs": []
    },
    {
      "cell_type": "code",
      "source": [
        "doc=nlp(text)\n",
        "tokens= [token.text for token in doc]\n",
        "print(tokens)"
      ],
      "metadata": {
        "colab": {
          "base_uri": "https://localhost:8080/"
        },
        "id": "D97FNgl38H39",
        "outputId": "a3d37d60-8c1d-43aa-d320-474a59df9235"
      },
      "execution_count": null,
      "outputs": [
        {
          "output_type": "stream",
          "name": "stdout",
          "text": [
            "[' ', 'working', 'professionals', 'I', 'hope', 'you', 'have', 'heard', 'about', 'a', 'platform', 'coding', 'in', 'jazz', 'if', 'not', 'let', 'me', 'just', 'be', 'a', 'few', 'something', 'about', 'this', 'coding', 'ninjas', 'open', 'courses', 'from', 'basic', 'to', 'Advanced', 'leveling', 'programming', 'in', 'c', 'plus', 'plus', 'Java', 'python', 'machine', 'learning', 'data', 'science', 'and', 'these', 'courses', 'are', 'will', 'structures', 'and', 'paid', 'courses', 'but', 'what', 'if', 'I', 'say', 'now', 'you', 'have', 'chance', 'to', 'get', 'these', 'courses', 'for', 'your', 'post', 'yes', 'it', 'is', 'possible', 'but', 'how', 'big', 'is', 'coding', 'in', 'charge', 'is', 'conducting', 'a', 'scholarship', 'test', 'which', 'would', 'be', 'on', '11th', 'and', '12th', 'of', 'July', 'and', 'the', 'time', 'is', '5:00', 'p.m.', 'to', '9:00', 'p.m.', 'now', 'you', 'can', 'attempt', 'this', 'test', 'either', 'on', '11th', 'or', '12th', 'not', 'on', 'both', 'the', 'dates', 'right', 'while', 'resisting', 'for', 'this', 'test', 'do', \"n't\", 'worry', 'the', 'link', 'I', 'put', 'in', 'the', 'description', 'why', 'you', 'should', 'take', 'this', 'scholarship', 'test', 'and', 'why', 'you', 'should', 'enroll', 'basically', 'in', 'these', 'courses', 'how', 'these', 'horses', 'are', 'different', 'what', 'benefit', 'you', 'will', 'get', 'after', 'involved', 'after', 'enrolling', 'in', 'these', 'courses', 'okay', 'the', 'first', 'thing', 'the', 'horses', 'are', 'very', 'well', 'structured', 'for', 'college', 'students', 'and', 'if', 'a', 'student', 'put', 'right', 'for', 'attend', 'hard', 'work', 'then', 'these', 'courses', 'are', 'enough', 'to', 'correct', 'any', 'topic', 'and', 'you', 'will', 'get', 'exceptional', 'content', 'here', 'because', 'these', 'courses', 'are', 'being', 'designed', 'by', 'their', 'experts', 'from', 'IIT', 'Stanford', 'Amazon', 'Facebook', '121', 'doubt', 'resolution', 'Support', 'also', 'will', 'get', 'your', 'doubt', 'usually', 'get', 'resolved', 'within', '1', 'to', '2', 'hours', 'you', 'will', 'get', 'a', 'chance', 'to', 'work', 'on', 'live', 'project', 'just', 'to', 'test', 'your', 'skills', 'against', 'your', 'peers', 'and', 'one', 'to', 'one', 'domain', 'export', 'session', 'would', 'also', 'be', 'conducted', 'and', 'they', \"'re\", 'having', 'a', 'very', 'good', 'rating', 'on', 'Facebook', 'and', 'Google', 'and', 'the', 'list', 'of', 'benefits', 'would', 'be', 'going', 'on', 'now', 'what', 'if', 'you', 'say', 'you', 'are', 'not', 'from', 'a', 'coding', 'background', 'so', 'how', 'can', 'you', 'go', 'for', 'this', 'test', 'you', 'do', \"n't\", 'play', 'the', 'ABCD', 'of', 'coding', 'do', \"n't\", 'worry', 'what', 'is', 'the', 'pattern', 'you', 'will', 'get', 'only', '15', 'attitude', 'based', 'mcqs', 'right', 'no', 'coding', 'questions', 'will', 'be', 'there', 'and', 'the', 'time', 'limit', 'will', 'be', '30', 'minutes', 'plus', 'one', 'more', 'plus', 'one', 'is', 'what', 'there', 'is', 'no', 'negative', 'marking', 'right', 'so', 'you', 'can', 'go', 'anywhere', 'you', 'can', 'go', 'for', 'this', 'test', 'so', 'now', 'everyone', 'have', 'a', 'chance', 'to', 'win', 'up', 'to', '100', '%', 'scholarship', 'to', 'study', 'these', 'courses', 'and', 'minimum', '10445', 'rolling', 'in', 'these', 'courses', 'and', 'learn', 'new', 'skills', 'upgrade', 'your', 'resume', 'and', 'beat', 'the', 'competition', 'so', 'all', 'the', 'relevant', 'things', 'and', 'details', 'will', 'find', 'in', 'the', 'description', 'box', 'of', 'this', 'video', 'you', 'can', 'go', 'and', 'check', 'out', 'now', 'I', \"'ll\", 'see', 'you', 'next', 'week']\n"
          ]
        }
      ]
    },
    {
      "cell_type": "code",
      "source": [
        "punctuation = punctuation + '\\n'\n",
        "punctuation"
      ],
      "metadata": {
        "colab": {
          "base_uri": "https://localhost:8080/",
          "height": 35
        },
        "id": "g43rys-W8HyG",
        "outputId": "c73b0cab-ec64-48f5-a23b-6bc97d8587e4"
      },
      "execution_count": null,
      "outputs": [
        {
          "output_type": "execute_result",
          "data": {
            "text/plain": [
              "'!\"#$%&\\'()*+,-./:;<=>?@[\\\\]^_`{|}~\\n'"
            ],
            "application/vnd.google.colaboratory.intrinsic+json": {
              "type": "string"
            }
          },
          "metadata": {},
          "execution_count": 25
        }
      ]
    },
    {
      "cell_type": "code",
      "source": [
        "word_frequency={}\n",
        "for word in doc:\n",
        "  if word.text.lower() not in stopwords:\n",
        "    if word.text.lower() not in punctuation:\n",
        "      if word.text not in word_frequency.keys():\n",
        "        word_frequency[word.text]=1\n",
        "      else:\n",
        "        word_frequency[word.text]+=1\n",
        "print(word_frequency)"
      ],
      "metadata": {
        "colab": {
          "base_uri": "https://localhost:8080/"
        },
        "id": "KUhdror-8HrH",
        "outputId": "bcbab43d-ccf5-4415-8b1b-c0e326a6b7e7"
      },
      "execution_count": null,
      "outputs": [
        {
          "output_type": "stream",
          "name": "stdout",
          "text": [
            "{' ': 1, 'working': 1, 'professionals': 1, 'hope': 1, 'heard': 1, 'platform': 1, 'coding': 6, 'jazz': 1, 'let': 1, 'ninjas': 1, 'open': 1, 'courses': 10, 'basic': 1, 'Advanced': 1, 'leveling': 1, 'programming': 1, 'c': 1, 'plus': 4, 'Java': 1, 'python': 1, 'machine': 1, 'learning': 1, 'data': 1, 'science': 1, 'structures': 1, 'paid': 1, 'chance': 3, 'post': 1, 'yes': 1, 'possible': 1, 'big': 1, 'charge': 1, 'conducting': 1, 'scholarship': 3, 'test': 7, '11th': 2, '12th': 2, 'July': 1, 'time': 2, '5:00': 1, 'p.m.': 2, '9:00': 1, 'attempt': 1, 'dates': 1, 'right': 4, 'resisting': 1, 'worry': 2, 'link': 1, 'description': 2, 'enroll': 1, 'basically': 1, 'horses': 2, 'different': 1, 'benefit': 1, 'involved': 1, 'enrolling': 1, 'okay': 1, 'thing': 1, 'structured': 1, 'college': 1, 'students': 1, 'student': 1, 'attend': 1, 'hard': 1, 'work': 2, 'correct': 1, 'topic': 1, 'exceptional': 1, 'content': 1, 'designed': 1, 'experts': 1, 'IIT': 1, 'Stanford': 1, 'Amazon': 1, 'Facebook': 2, '121': 1, 'doubt': 2, 'resolution': 1, 'Support': 1, 'usually': 1, 'resolved': 1, '1': 1, '2': 1, 'hours': 1, 'live': 1, 'project': 1, 'skills': 2, 'peers': 1, 'domain': 1, 'export': 1, 'session': 1, 'conducted': 1, 'having': 1, 'good': 1, 'rating': 1, 'Google': 1, 'list': 1, 'benefits': 1, 'going': 1, 'background': 1, 'play': 1, 'ABCD': 1, 'pattern': 1, '15': 1, 'attitude': 1, 'based': 1, 'mcqs': 1, 'questions': 1, 'limit': 1, '30': 1, 'minutes': 1, 'negative': 1, 'marking': 1, 'win': 1, '100': 1, 'study': 1, 'minimum': 1, '10445': 1, 'rolling': 1, 'learn': 1, 'new': 1, 'upgrade': 1, 'resume': 1, 'beat': 1, 'competition': 1, 'relevant': 1, 'things': 1, 'details': 1, 'find': 1, 'box': 1, 'video': 1, 'check': 1, 'week': 1}\n"
          ]
        }
      ]
    },
    {
      "cell_type": "code",
      "source": [
        "max_frequency=max(word_frequency.values())\n",
        "max_frequency"
      ],
      "metadata": {
        "colab": {
          "base_uri": "https://localhost:8080/"
        },
        "id": "MuR8VZrm8Vyt",
        "outputId": "16f69b2d-fc91-429a-e09b-0d61ea7987d4"
      },
      "execution_count": null,
      "outputs": [
        {
          "output_type": "execute_result",
          "data": {
            "text/plain": [
              "10"
            ]
          },
          "metadata": {},
          "execution_count": 27
        }
      ]
    },
    {
      "cell_type": "code",
      "source": [
        "for word in word_frequency.keys():\n",
        "            word_frequency[word] = word_frequency[word]/max_frequency"
      ],
      "metadata": {
        "id": "_IAXjxCs8HjJ"
      },
      "execution_count": null,
      "outputs": []
    },
    {
      "cell_type": "code",
      "source": [
        "print(word_frequency)"
      ],
      "metadata": {
        "colab": {
          "base_uri": "https://localhost:8080/"
        },
        "id": "cQGawCrm8WKn",
        "outputId": "440c19f7-e7f5-46bd-b58d-5f35c3b203ed"
      },
      "execution_count": null,
      "outputs": [
        {
          "output_type": "stream",
          "name": "stdout",
          "text": [
            "{' ': 0.1, 'working': 0.1, 'professionals': 0.1, 'hope': 0.1, 'heard': 0.1, 'platform': 0.1, 'coding': 0.6, 'jazz': 0.1, 'let': 0.1, 'ninjas': 0.1, 'open': 0.1, 'courses': 1.0, 'basic': 0.1, 'Advanced': 0.1, 'leveling': 0.1, 'programming': 0.1, 'c': 0.1, 'plus': 0.4, 'Java': 0.1, 'python': 0.1, 'machine': 0.1, 'learning': 0.1, 'data': 0.1, 'science': 0.1, 'structures': 0.1, 'paid': 0.1, 'chance': 0.3, 'post': 0.1, 'yes': 0.1, 'possible': 0.1, 'big': 0.1, 'charge': 0.1, 'conducting': 0.1, 'scholarship': 0.3, 'test': 0.7, '11th': 0.2, '12th': 0.2, 'July': 0.1, 'time': 0.2, '5:00': 0.1, 'p.m.': 0.2, '9:00': 0.1, 'attempt': 0.1, 'dates': 0.1, 'right': 0.4, 'resisting': 0.1, 'worry': 0.2, 'link': 0.1, 'description': 0.2, 'enroll': 0.1, 'basically': 0.1, 'horses': 0.2, 'different': 0.1, 'benefit': 0.1, 'involved': 0.1, 'enrolling': 0.1, 'okay': 0.1, 'thing': 0.1, 'structured': 0.1, 'college': 0.1, 'students': 0.1, 'student': 0.1, 'attend': 0.1, 'hard': 0.1, 'work': 0.2, 'correct': 0.1, 'topic': 0.1, 'exceptional': 0.1, 'content': 0.1, 'designed': 0.1, 'experts': 0.1, 'IIT': 0.1, 'Stanford': 0.1, 'Amazon': 0.1, 'Facebook': 0.2, '121': 0.1, 'doubt': 0.2, 'resolution': 0.1, 'Support': 0.1, 'usually': 0.1, 'resolved': 0.1, '1': 0.1, '2': 0.1, 'hours': 0.1, 'live': 0.1, 'project': 0.1, 'skills': 0.2, 'peers': 0.1, 'domain': 0.1, 'export': 0.1, 'session': 0.1, 'conducted': 0.1, 'having': 0.1, 'good': 0.1, 'rating': 0.1, 'Google': 0.1, 'list': 0.1, 'benefits': 0.1, 'going': 0.1, 'background': 0.1, 'play': 0.1, 'ABCD': 0.1, 'pattern': 0.1, '15': 0.1, 'attitude': 0.1, 'based': 0.1, 'mcqs': 0.1, 'questions': 0.1, 'limit': 0.1, '30': 0.1, 'minutes': 0.1, 'negative': 0.1, 'marking': 0.1, 'win': 0.1, '100': 0.1, 'study': 0.1, 'minimum': 0.1, '10445': 0.1, 'rolling': 0.1, 'learn': 0.1, 'new': 0.1, 'upgrade': 0.1, 'resume': 0.1, 'beat': 0.1, 'competition': 0.1, 'relevant': 0.1, 'things': 0.1, 'details': 0.1, 'find': 0.1, 'box': 0.1, 'video': 0.1, 'check': 0.1, 'week': 0.1}\n"
          ]
        }
      ]
    },
    {
      "cell_type": "code",
      "source": [
        "sentence_tokens=[sent for sent in doc.sents]\n",
        "print(sentence_tokens)"
      ],
      "metadata": {
        "colab": {
          "base_uri": "https://localhost:8080/"
        },
        "id": "h5UzgQPp8HVX",
        "outputId": "ba1f3431-9211-44dc-9a41-f980671d26ce"
      },
      "execution_count": null,
      "outputs": [
        {
          "output_type": "stream",
          "name": "stdout",
          "text": [
            "[ working professionals I hope you have heard about a platform coding in jazz if not let me just be a few something about this coding ninjas open courses from basic to Advanced leveling programming in c plus plus Java python machine learning data science and these courses are will structures and paid courses but what if I say now you have chance to get these courses for your post, yes it is possible but how big is coding in charge is conducting a scholarship test which would be on 11th and 12th of July and the time is 5:00 p.m. to 9:00 p.m. now you can attempt this test either on 11th or 12th not on both the dates right while resisting for this test don't worry the link I put in the description why you should take this scholarship test and why you should enroll basically in these courses how these horses are different what benefit you will get after involved after enrolling in these courses, okay the first thing the horses are very well structured for college students and if a student put right for attend hard work then these courses are enough to correct any topic and you will get exceptional content here because these courses are being designed by their experts from IIT Stanford Amazon Facebook 121 doubt resolution Support also will get your doubt usually get resolved within 1 to 2 hours you will get a chance to work on live project just to test your skills against your peers and one to one domain export session would also be conducted and they're having a very good rating on Facebook and Google and the list of benefits would be going on now what if you say you are not from a coding background, so how can you go for this test you don't play the ABCD of coding don't worry what is the pattern you will get only 15 attitude based mcqs, right no coding questions will be there and the time limit will be 30 minutes plus one more plus one is what there is no negative marking, right, so you can go anywhere you can go for this test so now everyone have a chance to win up to 100% scholarship to study these courses and minimum 10445 rolling in these courses and learn new skills upgrade your resume and beat the competition so all the relevant things and details will find in the description box of this video you can go and check out now I'll see you next week]\n"
          ]
        }
      ]
    },
    {
      "cell_type": "code",
      "source": [
        "sentence_scores = {}\n",
        "for sent in sentence_tokens:\n",
        "            for word in sent:\n",
        "                if word.text.lower() in word_frequency.keys():\n",
        "                    if sent not in sentence_scores.keys():\n",
        "                        sentence_scores[sent] = word_frequency[word.text.lower()]\n",
        "                    else:\n",
        "                        sentence_scores[sent] += word_frequency[word.text.lower()]"
      ],
      "metadata": {
        "id": "KvPKGvjE9DMt"
      },
      "execution_count": null,
      "outputs": []
    },
    {
      "cell_type": "code",
      "source": [
        "sentence_scores"
      ],
      "metadata": {
        "colab": {
          "base_uri": "https://localhost:8080/"
        },
        "id": "xXD1Yl4H9DLb",
        "outputId": "90111c21-19b7-411f-fd97-3f5a1059bde6"
      },
      "execution_count": null,
      "outputs": [
        {
          "output_type": "execute_result",
          "data": {
            "text/plain": [
              "{ working professionals I hope you have heard about a platform coding in jazz if not let me just be a few something about this coding ninjas open courses from basic to Advanced leveling programming in c plus plus Java python machine learning data science and these courses are will structures and paid courses but what if I say now you have chance to get these courses for your post: 8.499999999999998,\n",
              " yes it is possible but how big is coding in charge is conducting a scholarship test which would be on 11th and 12th of July and the time is 5:00 p.m. to 9:00 p.m. now you can attempt this test either on 11th or 12th not on both the dates right while resisting for this test don't worry the link I put in the description why you should take this scholarship test and why you should enroll basically in these courses how these horses are different what benefit you will get after involved after enrolling in these courses: 10.099999999999998,\n",
              " okay the first thing the horses are very well structured for college students and if a student put right for attend hard work then these courses are enough to correct any topic and you will get exceptional content here because these courses are being designed by their experts from IIT Stanford Amazon Facebook 121 doubt resolution Support also will get your doubt usually get resolved within 1 to 2 hours you will get a chance to work on live project just to test your skills against your peers and one to one domain export session would also be conducted and they're having a very good rating on Facebook and Google and the list of benefits would be going on now what if you say you are not from a coding background: 8.699999999999992,\n",
              " so how can you go for this test you don't play the ABCD of coding don't worry what is the pattern you will get only 15 attitude based mcqs: 2.1,\n",
              " right no coding questions will be there and the time limit will be 30 minutes plus one more plus one is what there is no negative marking: 2.6000000000000005,\n",
              " right: 0.4,\n",
              " so you can go anywhere you can go for this test so now everyone have a chance to win up to 100% scholarship to study these courses and minimum 10445 rolling in these courses and learn new skills upgrade your resume and beat the competition so all the relevant things and details will find in the description box of this video you can go and check out now I'll see you next week: 5.699999999999997}"
            ]
          },
          "metadata": {},
          "execution_count": 32
        }
      ]
    },
    {
      "cell_type": "code",
      "source": [
        "from heapq import nlargest\n",
        "select_length = int(len(sentence_tokens)*0.3)\n",
        "select_length"
      ],
      "metadata": {
        "colab": {
          "base_uri": "https://localhost:8080/"
        },
        "id": "5vIcS8wg9DHm",
        "outputId": "1ed6e87e-df7e-46ce-cf71-acd905b870ca"
      },
      "execution_count": null,
      "outputs": [
        {
          "output_type": "execute_result",
          "data": {
            "text/plain": [
              "2"
            ]
          },
          "metadata": {},
          "execution_count": 33
        }
      ]
    },
    {
      "cell_type": "code",
      "source": [
        "summary = nlargest(select_length, sentence_scores, key = sentence_scores.get)\n",
        "summary"
      ],
      "metadata": {
        "colab": {
          "base_uri": "https://localhost:8080/"
        },
        "id": "-Tg8tl4h9RpU",
        "outputId": "e679cf64-45c4-42b6-f973-b547c238c06b"
      },
      "execution_count": null,
      "outputs": [
        {
          "output_type": "execute_result",
          "data": {
            "text/plain": [
              "[yes it is possible but how big is coding in charge is conducting a scholarship test which would be on 11th and 12th of July and the time is 5:00 p.m. to 9:00 p.m. now you can attempt this test either on 11th or 12th not on both the dates right while resisting for this test don't worry the link I put in the description why you should take this scholarship test and why you should enroll basically in these courses how these horses are different what benefit you will get after involved after enrolling in these courses,\n",
              " okay the first thing the horses are very well structured for college students and if a student put right for attend hard work then these courses are enough to correct any topic and you will get exceptional content here because these courses are being designed by their experts from IIT Stanford Amazon Facebook 121 doubt resolution Support also will get your doubt usually get resolved within 1 to 2 hours you will get a chance to work on live project just to test your skills against your peers and one to one domain export session would also be conducted and they're having a very good rating on Facebook and Google and the list of benefits would be going on now what if you say you are not from a coding background]"
            ]
          },
          "metadata": {},
          "execution_count": 34
        }
      ]
    },
    {
      "cell_type": "code",
      "source": [
        "final_summary = [word.text for word in summary]\n",
        "summarized = ' '.join(final_summary)\n",
        "print(summarized)"
      ],
      "metadata": {
        "colab": {
          "base_uri": "https://localhost:8080/"
        },
        "id": "ryu3X60V9Rhp",
        "outputId": "cecc787b-177b-4fb9-e4f8-7a6f1648cccd"
      },
      "execution_count": null,
      "outputs": [
        {
          "output_type": "stream",
          "name": "stdout",
          "text": [
            "yes it is possible but how big is coding in charge is conducting a scholarship test which would be on 11th and 12th of July and the time is 5:00 p.m. to 9:00 p.m. now you can attempt this test either on 11th or 12th not on both the dates right while resisting for this test don't worry the link I put in the description why you should take this scholarship test and why you should enroll basically in these courses how these horses are different what benefit you will get after involved after enrolling in these courses okay the first thing the horses are very well structured for college students and if a student put right for attend hard work then these courses are enough to correct any topic and you will get exceptional content here because these courses are being designed by their experts from IIT Stanford Amazon Facebook 121 doubt resolution Support also will get your doubt usually get resolved within 1 to 2 hours you will get a chance to work on live project just to test your skills against your peers and one to one domain export session would also be conducted and they're having a very good rating on Facebook and Google and the list of benefits would be going on now what if you say you are not from a coding background\n"
          ]
        }
      ]
    },
    {
      "cell_type": "code",
      "source": [
        "print(len(text))\n",
        "print(len(summarized))"
      ],
      "metadata": {
        "colab": {
          "base_uri": "https://localhost:8080/"
        },
        "id": "dXnRZPEW9Vm0",
        "outputId": "e0157dc1-d753-4e1b-9b02-d7d2beb90aef"
      },
      "execution_count": null,
      "outputs": [
        {
          "output_type": "stream",
          "name": "stdout",
          "text": [
            "3855\n",
            "2216\n"
          ]
        }
      ]
    },
    {
      "cell_type": "code",
      "source": [
        "import pytube\n",
        "print(pytube.__version__)"
      ],
      "metadata": {
        "colab": {
          "base_uri": "https://localhost:8080/"
        },
        "id": "sq-euHUj9WAX",
        "outputId": "9c1b2df9-bfbc-4e69-f7e1-534f7998f989"
      },
      "execution_count": null,
      "outputs": [
        {
          "output_type": "stream",
          "name": "stdout",
          "text": [
            "15.0.0\n"
          ]
        }
      ]
    }
  ]
}